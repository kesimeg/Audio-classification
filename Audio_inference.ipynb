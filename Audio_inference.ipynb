{
 "cells": [
  {
   "cell_type": "code",
   "execution_count": 1,
   "metadata": {},
   "outputs": [],
   "source": [
    "from __future__ import print_function, division\n",
    "import torch\n",
    "import torch.nn as nn\n",
    "import torch.optim as optim\n",
    "from torch.utils.data import Dataset, DataLoader\n",
    "from torch.nn.utils.rnn import pad_sequence\n",
    "import numpy as np\n",
    "import matplotlib.pyplot as plt\n",
    "import time\n",
    "import os\n",
    "import pandas as pd\n",
    "from tqdm import tqdm\n",
    "import librosa"
   ]
  },
  {
   "cell_type": "markdown",
   "metadata": {},
   "source": [
    "With this file you can directly load a wav file and make classify using our model."
   ]
  },
  {
   "cell_type": "code",
   "execution_count": 2,
   "metadata": {},
   "outputs": [],
   "source": [
    "def label_to_num(label):\n",
    "    if label == 0 :\n",
    "        return 'gui'\n",
    "    elif label == 1:\n",
    "        return \"hi\"\n",
    "    elif label == 2:\n",
    "        return \"lau\"\n",
    "    elif label == 3:\n",
    "        return \"sax\"\n",
    "    elif label == 4:\n",
    "        return \"vio\""
   ]
  },
  {
   "cell_type": "code",
   "execution_count": 3,
   "metadata": {},
   "outputs": [],
   "source": [
    "class Net(nn.Module):\n",
    "    def __init__(self):\n",
    "        super(Net, self).__init__()\n",
    "\n",
    "        self.audio_encoder = nn.Sequential(\n",
    "            nn.Conv2d(1, 32, 3, 1, 1, bias=True),\n",
    "            nn.ReLU(),\n",
    "            nn.MaxPool2d(2, stride=2),\n",
    "            nn.Conv2d(32, 32, 3, 1, 1, bias=True),\n",
    "            nn.ReLU(),\n",
    "            nn.MaxPool2d(2, stride=2),\n",
    "            nn.Conv2d(32, 32, 3, 1, 1, bias=True),\n",
    "            nn.ReLU(),\n",
    "            nn.MaxPool2d(2, stride=2)\n",
    "        )\n",
    "        \n",
    "        \n",
    "        self.audio_linear = nn.Sequential(nn.LeakyReLU(0.2, inplace=True),\n",
    "        nn.Linear(32*7*6,128))\n",
    "\n",
    "        self.gru_hiddend_dim = 128\n",
    "\n",
    "        self.gru = nn.GRU(128, 128, 1, batch_first=True)\n",
    "\n",
    "        self.out = nn.Sequential(nn.Linear(128,5)) # 5 classes\n",
    "\n",
    "    def forward(self,audio_data):\n",
    "\n",
    "\n",
    "        batch_size = audio_data.size(0)\n",
    "\n",
    "        x = self.audio_encoder(audio_data.view(-1,1,60,50))\n",
    "\n",
    "        x = self.audio_linear(x.view(-1,32*7*6))\n",
    "\n",
    "        h0 = torch.ones(1, batch_size, self.gru_hiddend_dim).to(device)\n",
    "        \n",
    "        x, _ = self.gru(x.view((batch_size,-1,128)),h0)# (h0, c0))  # out: tensor of shape (batch_size, seq_length, hidden_size)\n",
    "\n",
    "        x = x[:,-1,:] # take the last time step for prediction\n",
    "        \n",
    "        prediction = self.out(x.reshape(-1,128))\n",
    "        return x,prediction"
   ]
  },
  {
   "cell_type": "code",
   "execution_count": 4,
   "metadata": {},
   "outputs": [
    {
     "data": {
      "text/plain": [
       "Net(\n",
       "  (audio_encoder): Sequential(\n",
       "    (0): Conv2d(1, 32, kernel_size=(3, 3), stride=(1, 1), padding=(1, 1))\n",
       "    (1): ReLU()\n",
       "    (2): MaxPool2d(kernel_size=2, stride=2, padding=0, dilation=1, ceil_mode=False)\n",
       "    (3): Conv2d(32, 32, kernel_size=(3, 3), stride=(1, 1), padding=(1, 1))\n",
       "    (4): ReLU()\n",
       "    (5): MaxPool2d(kernel_size=2, stride=2, padding=0, dilation=1, ceil_mode=False)\n",
       "    (6): Conv2d(32, 32, kernel_size=(3, 3), stride=(1, 1), padding=(1, 1))\n",
       "    (7): ReLU()\n",
       "    (8): MaxPool2d(kernel_size=2, stride=2, padding=0, dilation=1, ceil_mode=False)\n",
       "  )\n",
       "  (audio_linear): Sequential(\n",
       "    (0): LeakyReLU(negative_slope=0.2, inplace=True)\n",
       "    (1): Linear(in_features=1344, out_features=128, bias=True)\n",
       "  )\n",
       "  (gru): GRU(128, 128, batch_first=True)\n",
       "  (out): Sequential(\n",
       "    (0): Linear(in_features=128, out_features=5, bias=True)\n",
       "  )\n",
       ")"
      ]
     },
     "execution_count": 4,
     "metadata": {},
     "output_type": "execute_result"
    }
   ],
   "source": [
    "device = \"cpu\"\n",
    "model = Net()\n",
    "model.load_state_dict(torch.load(\"./models/cnn_gru/model5.pth\", map_location=lambda storage, loc: storage))\n",
    "model.eval()"
   ]
  },
  {
   "cell_type": "markdown",
   "metadata": {},
   "source": [
    "Change the file name below to load a different wav file"
   ]
  },
  {
   "cell_type": "code",
   "execution_count": 5,
   "metadata": {},
   "outputs": [
    {
     "data": {
      "image/png": "[encoded data removed]",
      "text/plain": [
       "<Figure size 432x288 with 1 Axes>"
      ]
     },
     "metadata": {
      "needs_background": "light"
     },
     "output_type": "display_data"
    },
    {
     "name": "stdout",
     "output_type": "stream",
     "text": [
      "Class probabilities\n",
      "[0.02102618 0.00091769 0.00158355 0.7882501  0.1882225 ]\n",
      "Predicted class:sax and confidence: 0.79\n",
      "sax\n"
     ]
    }
   ],
   "source": [
    "label_list =  ['gui','hi','lau','sax','vio']\n",
    "soft = nn.Softmax(dim=1)\n",
    "\n",
    "data , sr = librosa.load(\"./data/FSDKaggle2018.audio_test/008afd93.wav\",sr=16000)\n",
    "hop = sr//25\n",
    "data = data[:sr*6]\n",
    "if data.shape[0] != sr*6:\n",
    "    data = np.resize(data,6*sr)\n",
    "melspec = librosa.feature.melspectrogram(data, n_mels = 60,hop_length=hop,n_fft=hop*2)\n",
    "features = librosa.core.amplitude_to_db(melspec)\n",
    "\n",
    "features = torch.from_numpy(features)\n",
    "features = features.unfold(1,50,1)\n",
    "features = features.permute(1,0,2).unsqueeze(0)\n",
    "\n",
    "_,outputs = model(features.float())\n",
    "\n",
    "_, preds = torch.max(outputs, 1)\n",
    "prob = soft(outputs)[0].detach().numpy()\n",
    "pred_class = preds.item()\n",
    "\n",
    "\n",
    "\n",
    "plt.xticks(np.arange(5),label_list,rotation=90,fontsize=20)\n",
    "plt.bar(np.arange(5),prob)\n",
    "plt.show()\n",
    "\n",
    "\n",
    "\n",
    "print(\"Class probabilities\")\n",
    "print(prob)\n",
    "print(\"Predicted class:{} and confidence: {:.2f}\".format(label_to_num(pred_class),prob[pred_class]))\n",
    "print(label_to_num(preds.item()))"
   ]
  },
  {
   "cell_type": "code",
   "execution_count": null,
   "metadata": {},
   "outputs": [],
   "source": []
  }
 ],
 "metadata": {
  "kernelspec": {
   "display_name": "Python 3",
   "language": "python",
   "name": "python3"
  },
  "language_info": {
   "codemirror_mode": {
    "name": "ipython",
    "version": 3
   },
   "file_extension": ".py",
   "mimetype": "text/x-python",
   "name": "python",
   "nbconvert_exporter": "python",
   "pygments_lexer": "ipython3",
   "version": "3.7.10"
  }
 },
 "nbformat": 4,
 "nbformat_minor": 4
}
